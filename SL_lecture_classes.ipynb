{
  "nbformat": 4,
  "nbformat_minor": 0,
  "metadata": {
    "colab": {
      "name": "SL_lecture_classes.ipynb",
      "provenance": []
    },
    "kernelspec": {
      "name": "python3",
      "display_name": "Python 3"
    },
    "language_info": {
      "name": "python"
    }
  },
  "cells": [
    {
      "cell_type": "markdown",
      "source": [
        "# List 1"
      ],
      "metadata": {
        "id": "J3a62Y4qq6Ft"
      }
    },
    {
      "cell_type": "markdown",
      "source": [
        "## Problem 1\n",
        "\n",
        "Having a function f(x), compute its first, second, and third-order derivatives. Plot them in one picture. Let $x$ ranges from $[0,10]$. Compare obtained results with the true values. \n",
        "\n",
        "Consider:\n",
        "\n",
        "* a) $$ f(x) = x^2 \\sin(x) + \\sqrt{x}$$\n",
        "\n",
        "* b) $$ f(x) =  \\frac{ln(x)}{x} + (\\sqrt{x}+1)^2$$\n",
        "\n",
        "* c) $$ f(x) = \\sqrt{x} \\exp(-x^2) $$\n",
        "\n",
        "*Note* Computations perform using Autograd PyTorch package."
      ],
      "metadata": {
        "id": "ehoESrSbq8g0"
      }
    },
    {
      "cell_type": "markdown",
      "source": [
        "# Problem 2\n",
        "\n",
        "Consider the neural network with two hidden layers so that \n",
        "$$ y =Net(\\mathbf{x}).$$ The input vector, $\\mathbf{x}$ is four-dimensional, while the output vector, $y$, is one-dimensional. Assume that in the first and second hidden layers, there are $4$ units $6$ units, respectively. \n",
        "\n",
        "a) Compute the Hessian matrix, namely,\n",
        "$$\n",
        "H_{ij} = \\frac{\\partial^2 y}{\\partial w_i \\partial w_j}, \n",
        "$$\n",
        "where $w_{i}$ is the weight parameter\n",
        "\n",
        "\n",
        "b) Compute the matrix of the form,\n",
        "$$\n",
        "A_{ij} = \\frac{\\partial^2 y}{\\partial x_i \\partial x_j}, \n",
        "$$\n",
        "where $x_{i}$ is the weight parameter\n",
        "\n",
        "*Use PyTorch* package to perform computations."
      ],
      "metadata": {
        "id": "kFww0rogrEc1"
      }
    },
    {
      "cell_type": "markdown",
      "source": [
        ""
      ],
      "metadata": {
        "id": "f4ETLflQswP4"
      }
    },
    {
      "cell_type": "markdown",
      "source": [
        "## Problem 3"
      ],
      "metadata": {
        "id": "ig38m8Y-3xxU"
      }
    },
    {
      "cell_type": "markdown",
      "source": [
        "Finding the inverse function of parabola. Let us find using neural network the inverse function of the parabola of the form $y=x^2$. Consider the data on the interval $x \\in [0,1]$ our task is to get the $f^{-1}$ function. \n",
        "\n",
        "a) Let us generate the data:"
      ],
      "metadata": {
        "id": "I3LKgvnl4B4P"
      }
    },
    {
      "cell_type": "code",
      "source": [
        " import numpy as np\n",
        " import torch\n",
        " import matplotlib.pyplot as plt"
      ],
      "metadata": {
        "id": "0M1rVf0g5aUX"
      },
      "execution_count": 3,
      "outputs": []
    },
    {
      "cell_type": "code",
      "execution_count": 6,
      "metadata": {
        "id": "jRoZsWtXq2As"
      },
      "outputs": [],
      "source": [
        "# inputs\n",
        "N=200\n",
        "X = np.random.random(N)\n",
        "# define outpus\n",
        "sign = (-np.ones((N,)))**np.random.randint(2,size=N)\n",
        "Y = np.sqrt(X)*sign"
      ]
    },
    {
      "cell_type": "code",
      "source": [
        "plt.scatter(X,Y)\n",
        "plt.show()"
      ],
      "metadata": {
        "colab": {
          "base_uri": "https://localhost:8080/",
          "height": 265
        },
        "id": "I40oqGD76EYd",
        "outputId": "abd9bf2b-05b4-4fd6-82ee-1ea28261a06b"
      },
      "execution_count": 9,
      "outputs": [
        {
          "output_type": "display_data",
          "data": {
            "text/plain": [
              "<Figure size 432x288 with 1 Axes>"
            ],
            "image/png": "[encoded data removed]"
          },
          "metadata": {
            "needs_background": "light"
          }
        }
      ]
    },
    {
      "cell_type": "markdown",
      "source": [
        "b) Define the network with two hidden layers and choose a sufficient number of hidden units.\n",
        "\n",
        "c) Use PyTorch losses: MSE and L1.\n",
        "\n",
        "d) Having a data train the network. Can you obtain a reasonable fit?\n",
        "\n",
        "e) Play with the size of the batches, consider bach=5, 50, 100, 200. Compare the results?\n",
        "\n",
        "f) add gaussian noise t the target data and train the network\n",
        "\n",
        "g) add regularization term and train the data\n",
        "\n",
        "\n",
        "** Illustrate the results"
      ],
      "metadata": {
        "id": "xQ1aHB1s7Obd"
      }
    },
    {
      "cell_type": "markdown",
      "source": [
        "## Problem 4\n",
        "\n",
        "Consider the same problem as the above but now, instead of the PyTorch defined loss, use user-defined so that:\n",
        "$$\n",
        "\\mathrm{loss} = \\sum_i |net^2(x_i) - x_i^{true} |^2 \n",
        "$$ \n"
      ],
      "metadata": {
        "id": "RT7ID2Zk88yE"
      }
    },
    {
      "cell_type": "code",
      "source": [
        ""
      ],
      "metadata": {
        "id": "ZGdGLNI26Fzs"
      },
      "execution_count": null,
      "outputs": []
    }
  ]
}