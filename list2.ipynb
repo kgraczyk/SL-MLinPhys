{
  "nbformat": 4,
  "nbformat_minor": 0,
  "metadata": {
    "colab": {
      "name": "list2.ipynb",
      "provenance": []
    },
    "kernelspec": {
      "name": "python3",
      "display_name": "Python 3"
    },
    "language_info": {
      "name": "python"
    }
  },
  "cells": [
    {
      "cell_type": "markdown",
      "source": [
        "# List 2"
      ],
      "metadata": {
        "id": "o7dsUVBHatBJ"
      }
    },
    {
      "cell_type": "markdown",
      "source": [
        "## Problem 1\n",
        "\n",
        "\n",
        "a) Use backward (in both versions presented at the lecture) and forward Euler method and solve the first order differential equation:\n",
        "$$\n",
        "\\frac{d\\Psi(x)}{d x} + \\left( x + \\frac{1+3x^2}{1+x+x^3} \\right)\\Psi(x) = x^3 + 2x + x^2 \\frac{1+3x^2}{1+x+x^3}, \\quad \\Psi(0)=1, \\quad x\\in [0,1]\n",
        "$$\n",
        "b) Discuss the dependence of the results on step parameter $h$.\n",
        "\n",
        "c) Compare the results.\n",
        "\n",
        "* Note that the analytic solution reads\n",
        "$$\n",
        "\\Psi(x) = \\frac{e^{-x^2/2}}{1+x+x^3} +x^2\n",
        "$$"
      ],
      "metadata": {
        "id": "S3whL-ERaw8r"
      }
    },
    {
      "cell_type": "markdown",
      "source": [
        "## Problem 2\n",
        "\n",
        "\n",
        "a) Use backward (in both versions presented at the lecture) and forward Euler method and solve the first order differential equation:\n",
        "$$\n",
        "\\frac{d\\Psi(x)}{d x} + \\frac{1}{5}\\Psi(x) = e^{-\\frac{x}{5}}\\cos(x), \\quad \\Psi(0)=0, \\quad x\\in [0,2]\n",
        "$$\n",
        "b) Discuss the dependence of the results on step parameter $h$.\n",
        "\n",
        "c) Compare the results.\n",
        "\n",
        "* Note that the analytic solution reads\n",
        "$$\n",
        "\\Psi(x)= e^{-\\frac{x}{5}}\\sin(x)\n",
        "$$"
      ],
      "metadata": {
        "id": "oQAN4zLVb80g"
      }
    },
    {
      "cell_type": "markdown",
      "source": [
        "## Problem 3\n",
        "\n",
        "\n",
        "a) Use backward (in both versions presented at the lecture) and forward Euler method and solve the second order differential equation:\n",
        "$$\n",
        "\\frac{d^2\\Psi(x)}{d x^2} + \\frac{1}{5}\\frac{d\\Psi(x)}{dx} + \\Psi(x) = -\\frac{1}{5}e^{-\\frac{x}{5}}\\cos(x), \\quad \\Psi(0)=0, \\quad \\frac{d\\Psi(0)}{dx}=1, \\quad x\\in [0,2]\n",
        "$$\n",
        "b) Discuss the dependence of the results on step parameter $h$.\n",
        "\n",
        "c) Compare the results.\n",
        "\n",
        "* Note that the analytic solution reads\n",
        "$$\n",
        "\\Psi(x)= e^{-\\frac{x}{5}}\\sin(x)\n",
        "$$"
      ],
      "metadata": {
        "id": "q-RGXIngcU-2"
      }
    },
    {
      "cell_type": "markdown",
      "source": [
        "## Problem 4 \n",
        "\n",
        "a) Use backward (in both versions presented at the lecture) and forward Euler method and solve the system of first order differential equations:\n",
        "$$\n",
        "\\frac{d \\Psi_1}{d x} = \\cos(x) + \\Psi_1^2(x) + \\Psi_2(x) - (1+x^2+\\sin^2(x))\n",
        "$$\n",
        "$$\n",
        "\\frac{d \\Psi_2}{d x} = 2x - (1+x^2)\\sin(x) + \\Psi_1(x) \\Psi_2(x)\n",
        "$$\n",
        "  * $x\\in[0,3]$ and $\\Psi_1(0)=0$, $\\Psi_2(0)=1$\n",
        "b) Discuss the dependence of the results on step parameter $h$.\n",
        "\n",
        "c) Compare the results.\n",
        "\n",
        "* Note that the analytic solution reads\n",
        "$$\n",
        "\\Psi_1(x) = \\sin(x),\\quad \\Psi_1(x) = 1+x^2\n",
        "$$\n",
        "\n"
      ],
      "metadata": {
        "id": "OYSWykTtcmCx"
      }
    },
    {
      "cell_type": "markdown",
      "source": [
        "## Problem 5\n",
        "Choose one of the options:\n",
        "  \n",
        "  a) Solve problem 1 using Lagaris method;\n",
        "  \n",
        "  b) Solve problem 2 using Lagaris method;\n",
        "  \n",
        "  c) Solve problem 3 using Lagaris method;\n",
        "  \n",
        "  d) Solve problem 3 using Lagaris method;\n",
        "* Consider various number of data points, discuss the resutls.\n"
      ],
      "metadata": {
        "id": "wcfYdpfUdbAu"
      }
    },
    {
      "cell_type": "code",
      "execution_count": null,
      "metadata": {
        "id": "eguzY3BcapgM"
      },
      "outputs": [],
      "source": [
        ""
      ]
    }
  ]
}